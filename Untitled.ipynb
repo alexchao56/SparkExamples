{
 "cells": [
  {
   "cell_type": "code",
   "execution_count": 1,
   "metadata": {
    "collapsed": false
   },
   "outputs": [
    {
     "data": {
      "text/plain": [
       "<pyspark.context.SparkContext at 0x107392a10>"
      ]
     },
     "execution_count": 1,
     "metadata": {},
     "output_type": "execute_result"
    }
   ],
   "source": [
    "sc"
   ]
  },
  {
   "cell_type": "code",
   "execution_count": 2,
   "metadata": {
    "collapsed": true
   },
   "outputs": [],
   "source": [
    "data = [1,2,3,4,5]"
   ]
  },
  {
   "cell_type": "code",
   "execution_count": 3,
   "metadata": {
    "collapsed": true
   },
   "outputs": [],
   "source": [
    "distData = sc.parallelize(data)"
   ]
  },
  {
   "cell_type": "code",
   "execution_count": 4,
   "metadata": {
    "collapsed": false
   },
   "outputs": [
    {
     "data": {
      "text/plain": [
       "ParallelCollectionRDD[0] at parallelize at PythonRDD.scala:396"
      ]
     },
     "execution_count": 4,
     "metadata": {},
     "output_type": "execute_result"
    }
   ],
   "source": [
    "distData"
   ]
  },
  {
   "cell_type": "code",
   "execution_count": 5,
   "metadata": {
    "collapsed": false
   },
   "outputs": [
    {
     "data": {
      "text/plain": [
       "MapPartitionsRDD[2] at textFile at NativeMethodAccessorImpl.java:-2"
      ]
     },
     "execution_count": 5,
     "metadata": {},
     "output_type": "execute_result"
    }
   ],
   "source": [
    "distFile = sc.textFile('README.md')\n",
    "distFile"
   ]
  },
  {
   "cell_type": "code",
   "execution_count": 6,
   "metadata": {
    "collapsed": false
   },
   "outputs": [
    {
     "data": {
      "text/plain": [
       "[[u'#', u'SparkExamples'],\n",
       " [u''],\n",
       " [u'Examples',\n",
       "  u'of',\n",
       "  u'Apache',\n",
       "  u'Spark',\n",
       "  u'using',\n",
       "  u'the',\n",
       "  u'IPython',\n",
       "  u'Notebook']]"
      ]
     },
     "execution_count": 6,
     "metadata": {},
     "output_type": "execute_result"
    }
   ],
   "source": [
    "distFile.map(lambda x: x.split(' ')).collect()"
   ]
  },
  {
   "cell_type": "code",
   "execution_count": 8,
   "metadata": {
    "collapsed": false
   },
   "outputs": [],
   "source": [
    "a = \"\"\"The Project Gutenberg EBook of Pride and Prejudice, by Jane Austen\n",
    "\n",
    "This eBook is for the use of anyone anywhere at no cost and with\n",
    "almost no restrictions whatsoever.  You may copy it, give it away or\n",
    "re-use it under the terms of the Project Gutenberg License included\n",
    "with this eBook or online at www.gutenberg.org\n",
    "\n",
    "\n",
    "Title: Pride and Prejudice\n",
    "\n",
    "Author: Jane Austen\n",
    "\n",
    "Posting Date: August 26, 2008 [EBook #1342]\n",
    "Release Date: June, 1998\n",
    "Last updated: February 15, 2015]\n",
    "\n",
    "Language: English\n",
    "\n",
    "\n",
    "*** START OF THIS PROJECT GUTENBERG EBOOK PRIDE AND PREJUDICE ***\n",
    "\n",
    "\n",
    "\n",
    "\n",
    "Produced by Anonymous Volunteers\n",
    "\n",
    "\n",
    "\n",
    "\n",
    "\n",
    "PRIDE AND PREJUDICE\n",
    "\n",
    "By Jane Austen\n",
    "\n",
    "\n",
    "\n",
    "Chapter 1\n",
    "\n",
    "\n",
    "It is a truth universally acknowledged, that a single man in possession\n",
    "of a good fortune, must be in want of a wife.\n",
    "\n",
    "However little known the feelings or views of such a man may be on his\n",
    "first entering a neighbourhood, this truth is so well fixed in the minds\n",
    "of the surrounding families, that he is considered the rightful property\n",
    "of some one or other of their daughters.\n",
    "\n",
    "\"My dear Mr. Bennet,\" said his lady to him one day, \"have you heard that\n",
    "Netherfield Park is let at last?\"\n",
    "\n",
    "Mr. Bennet replied that he had not.\n",
    "\n",
    "\"But it is,\" returned she; \"for Mrs. Long has just been here, and she\n",
    "told me all about it.\"\n",
    "\n",
    "Mr. Bennet made no answer.\n",
    "\n",
    "\"Do you not want to know who has taken it?\" cried his wife impatiently.\n",
    "\n",
    "\"_You_ want to tell me, and I have no objection to hearing it.\"\n",
    "\n",
    "This was invitation enough.\n",
    "\n",
    "\"Why, my dear, you must know, Mrs. Long says that Netherfield is taken\n",
    "by a young man of large fortune from the north of England; that he came\n",
    "down on Monday in a chaise and four to see the place, and was so much\n",
    "delighted with it, that he agreed with Mr. Morris immediately; that he\n",
    "is to take possession before Michaelmas, and some of his servants are to\n",
    "be in the house by the end of next week.\"\n",
    "\n",
    "\"What is his name?\"\n",
    "\n",
    "\"Bingley.\"\n",
    "\n",
    "\"Is he married or single?\"\n",
    "\n",
    "\"Oh! Single, my dear, to be sure! A single man of large fortune; four or\n",
    "five thousand a year. What a fine thing for our girls!\"\n",
    "\n",
    "\"How so? How can it affect them?\"\n",
    "\n",
    "\"My dear Mr. Bennet,\" replied his wife, \"how can you be so tiresome! You\n",
    "must know that I am thinking of his marrying one of them.\"\n",
    "\n",
    "\"Is that his design in settling here?\"\n",
    "\n",
    "\"Design! Nonsense, how can you talk so! But it is very likely that he\n",
    "_may_ fall in love with one of them, and therefore you must visit him as\n",
    "soon as he comes.\"\n",
    "\n",
    "\"I see no occasion for that. You and the girls may go, or you may send\n",
    "them by themselves, which perhaps will be still better, for as you are\n",
    "as handsome as any of them, Mr. Bingley may like you the best of the\n",
    "party.\"\n",
    "\n",
    "\"My dear, you flatter me. I certainly _have_ had my share of beauty, but\n",
    "I do not pretend to be anything extraordinary now. When a woman has five\n",
    "grown-up daughters, she ought to give over thinking of her own beauty.\"\n",
    "\n",
    "\"In such cases, a woman has not often much beauty to think of.\"\n",
    "\n",
    "\"But, my dear, you must indeed go and see Mr. Bingley when he comes into\n",
    "the neighbourhood.\"\n",
    "\n",
    "\"It is more than I engage for, I assure you.\"\n",
    "\n",
    "\"But consider your daughters. Only think what an establishment it would\n",
    "be for one of them. Sir William and Lady Lucas are determined to\n",
    "go, merely on that account, for in general, you know, they visit no\n",
    "newcomers. Indeed you must go, for it will be impossible for _us_ to\n",
    "visit him if you do not.\"\n",
    "\n",
    "\"You are over-scrupulous, surely. I dare say Mr. Bingley will be very\n",
    "glad to see you; and I will send a few lines by you to assure him of my\n",
    "hearty consent to his marrying whichever he chooses of the girls; though\n",
    "I must throw in a good word for my little Lizzy.\"\n",
    "\n",
    "\"I desire you will do no such thing. Lizzy is not a bit better than the\n",
    "others; and I am sure she is not half so handsome as Jane, nor half so\n",
    "good-humoured as Lydia. But you are always giving _her_ the preference.\"\n",
    "\n",
    "\"They have none of them much to recommend them,\" replied he; \"they are\n",
    "all silly and ignorant like other girls; but Lizzy has something more of\n",
    "quickness than her sisters.\"\n",
    "\n",
    "\"Mr. Bennet, how _can_ you abuse your own children in such a way? You\n",
    "take delight in vexing me. You have no compassion for my poor nerves.\"\n",
    "\n",
    "\"You mistake me, my dear. I have a high respect for your nerves. They\n",
    "are my old friends. I have heard you mention them with consideration\n",
    "these last twenty years at least.\"\n",
    "\n",
    "\"Ah, you do not know what I suffer.\"\n",
    "\n",
    "\"But I hope you will get over it, and live to see many young men of four\n",
    "thousand a year come into the neighbourhood.\"\n",
    "\n",
    "\"It will be no use to us, if twenty such should come, since you will not\n",
    "visit them.\"\n",
    "\n",
    "\"Depend upon it, my dear, that when there are twenty, I will visit them\n",
    "all.\"\n",
    "\n",
    "Mr. Bennet was so odd a mixture of quick parts, sarcastic humour,\n",
    "reserve, and caprice, that the experience of three-and-twenty years had\n",
    "been insufficient to make his wife understand his character. _Her_ mind\n",
    "was less difficult to develop. She was a woman of mean understanding,\n",
    "little information, and uncertain temper. When she was discontented,\n",
    "she fancied herself nervous. The business of her life was to get her\n",
    "daughters married; its solace was visiting and news.\"\"\""
   ]
  },
  {
   "cell_type": "code",
   "execution_count": 24,
   "metadata": {
    "collapsed": true
   },
   "outputs": [],
   "source": [
    "pride_prejudice = sc.textFile(\"README.md\")"
   ]
  },
  {
   "cell_type": "code",
   "execution_count": 25,
   "metadata": {
    "collapsed": false
   },
   "outputs": [
    {
     "data": {
      "text/plain": [
       "[[u'#', u'SparkExamples'],\n",
       " [],\n",
       " [u'Examples',\n",
       "  u'of',\n",
       "  u'Apache',\n",
       "  u'Spark',\n",
       "  u'using',\n",
       "  u'the',\n",
       "  u'IPython',\n",
       "  u'Notebook']]"
      ]
     },
     "execution_count": 25,
     "metadata": {},
     "output_type": "execute_result"
    }
   ],
   "source": [
    "pride_prejudice.map(lambda x: x.split()).collect()"
   ]
  },
  {
   "cell_type": "code",
   "execution_count": null,
   "metadata": {
    "collapsed": true
   },
   "outputs": [],
   "source": []
  }
 ],
 "metadata": {
  "kernelspec": {
   "display_name": "Python 2",
   "language": "python",
   "name": "python2"
  },
  "language_info": {
   "codemirror_mode": {
    "name": "ipython",
    "version": 2
   },
   "file_extension": ".py",
   "mimetype": "text/x-python",
   "name": "python",
   "nbconvert_exporter": "python",
   "pygments_lexer": "ipython2",
   "version": "2.7.10"
  }
 },
 "nbformat": 4,
 "nbformat_minor": 0
}
